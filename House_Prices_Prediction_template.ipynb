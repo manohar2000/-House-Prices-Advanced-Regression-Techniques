{
 "cells": [
  {
   "cell_type": "markdown",
   "metadata": {
    "colab_type": "text",
    "id": "nI-PD7AjQx5Z"
   },
   "source": [
    "**Setting up all the files and environment** "
   ]
  },
  {
   "cell_type": "code",
   "execution_count": 0,
   "metadata": {
    "colab": {},
    "colab_type": "code",
    "id": "UfTyNj0lGd7p"
   },
   "outputs": [],
   "source": [
    "#Check if drive has been mounted or not\n"
   ]
  },
  {
   "cell_type": "code",
   "execution_count": 0,
   "metadata": {
    "colab": {},
    "colab_type": "code",
    "id": "dUeqkwSmCcYx"
   },
   "outputs": [],
   "source": [
    "#Gather all the libraries required for changing the path , loading the data and pre processing\n",
    "\n"
   ]
  },
  {
   "cell_type": "code",
   "execution_count": 0,
   "metadata": {
    "colab": {},
    "colab_type": "code",
    "id": "7oEFj5BiCmhF"
   },
   "outputs": [],
   "source": [
    "#Change the directory to the folder containing all the files and check the files\n"
   ]
  },
  {
   "cell_type": "code",
   "execution_count": 0,
   "metadata": {
    "colab": {},
    "colab_type": "code",
    "id": "25bGg7t3EwLD"
   },
   "outputs": [],
   "source": [
    "#Load the test and train dataset\n"
   ]
  },
  {
   "cell_type": "code",
   "execution_count": 0,
   "metadata": {
    "colab": {},
    "colab_type": "code",
    "id": "4ueY52sPE2Wl"
   },
   "outputs": [],
   "source": [
    "#Check the shape of the train and test \n"
   ]
  },
  {
   "cell_type": "code",
   "execution_count": 0,
   "metadata": {
    "colab": {},
    "colab_type": "code",
    "id": "mu5c9OvYE61K"
   },
   "outputs": [],
   "source": [
    "#Get an overview of what kind of training data you have\n"
   ]
  },
  {
   "cell_type": "code",
   "execution_count": 0,
   "metadata": {
    "colab": {},
    "colab_type": "code",
    "id": "l0SAnz4kFFhr"
   },
   "outputs": [],
   "source": [
    "#Get an overview of what kind of training data you have\n"
   ]
  },
  {
   "cell_type": "code",
   "execution_count": 0,
   "metadata": {
    "colab": {},
    "colab_type": "code",
    "id": "u9COi44QFJjb"
   },
   "outputs": [],
   "source": [
    "#Import library for visualisation and set it up\n",
    "\n"
   ]
  },
  {
   "cell_type": "code",
   "execution_count": 0,
   "metadata": {
    "colab": {},
    "colab_type": "code",
    "id": "85A76RH7GARh"
   },
   "outputs": [],
   "source": [
    "#Get statistical information about the training dataset\n"
   ]
  },
  {
   "cell_type": "code",
   "execution_count": 0,
   "metadata": {
    "colab": {},
    "colab_type": "code",
    "id": "uWZ4qZwPGH8y"
   },
   "outputs": [],
   "source": [
    "#Check statistical information about the variables in the training dataframe\n"
   ]
  },
  {
   "cell_type": "code",
   "execution_count": 0,
   "metadata": {
    "colab": {},
    "colab_type": "code",
    "id": "yZkUDaclGU2O"
   },
   "outputs": [],
   "source": [
    "#Check what datatype your varible is\n"
   ]
  },
  {
   "cell_type": "code",
   "execution_count": 0,
   "metadata": {
    "colab": {},
    "colab_type": "code",
    "id": "OiFtBQxrH9Rz"
   },
   "outputs": [],
   "source": [
    "# Get statistical information about the Sale Prices\n"
   ]
  },
  {
   "cell_type": "code",
   "execution_count": 0,
   "metadata": {
    "colab": {},
    "colab_type": "code",
    "id": "lu-BP7pGHltQ"
   },
   "outputs": [],
   "source": [
    "# Check if your target varibale is skewed , if yes it will have some impact on your result\n"
   ]
  },
  {
   "cell_type": "code",
   "execution_count": 0,
   "metadata": {
    "colab": {},
    "colab_type": "code",
    "id": "CMHolvVsHxfy"
   },
   "outputs": [],
   "source": [
    "#Normalise the targer varibale and check if it has been normalised or not\n"
   ]
  },
  {
   "cell_type": "code",
   "execution_count": 0,
   "metadata": {
    "colab": {},
    "colab_type": "code",
    "id": "WBTrEJwbIdxc"
   },
   "outputs": [],
   "source": [
    "# Check what kind of numerical features you have\n"
   ]
  },
  {
   "cell_type": "code",
   "execution_count": 0,
   "metadata": {
    "colab": {},
    "colab_type": "code",
    "id": "CTRht7vinbNB"
   },
   "outputs": [],
   "source": [
    "#Check how different features are affecting the Sale prices\n"
   ]
  },
  {
   "cell_type": "code",
   "execution_count": 0,
   "metadata": {
    "colab": {},
    "colab_type": "code",
    "id": "sX1zV9FToLtE"
   },
   "outputs": [],
   "source": [
    "# Check what all unique values you have in a particular feautre\n"
   ]
  },
  {
   "cell_type": "code",
   "execution_count": 0,
   "metadata": {
    "colab": {},
    "colab_type": "code",
    "id": "m9BxjapqoXgE"
   },
   "outputs": [],
   "source": [
    "#Check how that unique variable is related to the Sale Price\n"
   ]
  },
  {
   "cell_type": "code",
   "execution_count": 0,
   "metadata": {
    "colab": {},
    "colab_type": "code",
    "id": "6fwrk9AropVE"
   },
   "outputs": [],
   "source": [
    "# Check graphically how the unique values are related to the target variable\n"
   ]
  },
  {
   "cell_type": "code",
   "execution_count": 0,
   "metadata": {
    "colab": {},
    "colab_type": "code",
    "id": "TztnKTzjo_Iz"
   },
   "outputs": [],
   "source": [
    "#Draw a scatter plot to check the correlation of the individual features with the targert variable\n"
   ]
  },
  {
   "cell_type": "code",
   "execution_count": 0,
   "metadata": {
    "colab": {},
    "colab_type": "code",
    "id": "-dL_RXNUpKXz"
   },
   "outputs": [],
   "source": [
    "#Draw a scatter plot to check the correlation of the individual features with the targert variable\n"
   ]
  },
  {
   "cell_type": "code",
   "execution_count": 0,
   "metadata": {
    "colab": {},
    "colab_type": "code",
    "id": "qdTXPErGHHlm"
   },
   "outputs": [],
   "source": [
    "# Checking the how many null values do we have in each feature\n"
   ]
  },
  {
   "cell_type": "markdown",
   "metadata": {
    "colab_type": "text",
    "id": "k-YmL7gOUdbK"
   },
   "source": [
    "Dealing with Categorical values"
   ]
  },
  {
   "cell_type": "code",
   "execution_count": 0,
   "metadata": {
    "colab": {},
    "colab_type": "code",
    "id": "mRam5gT2K4PA"
   },
   "outputs": [],
   "source": [
    "#Checking how many categorical values we have and some stats about that\n"
   ]
  },
  {
   "cell_type": "code",
   "execution_count": 0,
   "metadata": {
    "colab": {},
    "colab_type": "code",
    "id": "t_7ZdfabIzDP"
   },
   "outputs": [],
   "source": [
    "# checking what are the unique values some categorical features have\n"
   ]
  },
  {
   "cell_type": "code",
   "execution_count": 0,
   "metadata": {
    "colab": {},
    "colab_type": "code",
    "id": "MLLOsu3NLLjE"
   },
   "outputs": [],
   "source": [
    "# checking what is the exact value of each of categorical feature.\n"
   ]
  },
  {
   "cell_type": "code",
   "execution_count": 0,
   "metadata": {
    "colab": {},
    "colab_type": "code",
    "id": "zaTjU8QmLwVo"
   },
   "outputs": [],
   "source": [
    "# Dealing with categorical values using the get_dummies function\n"
   ]
  },
  {
   "cell_type": "code",
   "execution_count": 0,
   "metadata": {
    "colab": {},
    "colab_type": "code",
    "id": "7btxLGM5MSaz"
   },
   "outputs": [],
   "source": [
    "# Check if the variable have been changed or not\n"
   ]
  },
  {
   "cell_type": "code",
   "execution_count": 0,
   "metadata": {
    "colab": {},
    "colab_type": "code",
    "id": "kERL3_plMevT"
   },
   "outputs": [],
   "source": [
    "# Another kind of data tranformation of categorical values\n",
    "# Visualising the values of SaleCondition\n"
   ]
  },
  {
   "cell_type": "code",
   "execution_count": 0,
   "metadata": {
    "colab": {},
    "colab_type": "code",
    "id": "KV-o7n5ENHkK"
   },
   "outputs": [],
   "source": [
    "# Considering one feature to be 1 and changing the rest to 0\n"
   ]
  },
  {
   "cell_type": "code",
   "execution_count": 0,
   "metadata": {
    "colab": {},
    "colab_type": "code",
    "id": "taSvJXbYNraJ"
   },
   "outputs": [],
   "source": [
    "# checking the values have been changed or not\n"
   ]
  },
  {
   "cell_type": "code",
   "execution_count": 0,
   "metadata": {
    "colab": {},
    "colab_type": "code",
    "id": "wSBeFW2bNxkH"
   },
   "outputs": [],
   "source": [
    "# filling numerical data with average ( interpolation )\n"
   ]
  },
  {
   "cell_type": "code",
   "execution_count": 0,
   "metadata": {
    "colab": {},
    "colab_type": "code",
    "id": "N8Y3TCINOF_4"
   },
   "outputs": [],
   "source": [
    "# Check if there is some value which is having the value 0\n"
   ]
  },
  {
   "cell_type": "markdown",
   "metadata": {
    "colab_type": "text",
    "id": "9iKuHv8VWEXu"
   },
   "source": [
    "**Building the model**"
   ]
  },
  {
   "cell_type": "code",
   "execution_count": 0,
   "metadata": {
    "colab": {},
    "colab_type": "code",
    "id": "h6vvU7qQOMDZ"
   },
   "outputs": [],
   "source": [
    "# Preparing multiple linear regression model\n",
    "# Splitting the data and log transfroming the target variable \n"
   ]
  },
  {
   "cell_type": "code",
   "execution_count": 0,
   "metadata": {
    "colab": {},
    "colab_type": "code",
    "id": "BtH2MbbGOXXE"
   },
   "outputs": [],
   "source": [
    "#importing library for splitting the entire data\n"
   ]
  },
  {
   "cell_type": "code",
   "execution_count": 0,
   "metadata": {
    "colab": {},
    "colab_type": "code",
    "id": "Ply3XMX5O2OL"
   },
   "outputs": [],
   "source": [
    "#creating a linear regression model\n"
   ]
  },
  {
   "cell_type": "code",
   "execution_count": 0,
   "metadata": {
    "colab": {},
    "colab_type": "code",
    "id": "cxjZVi9KO76F"
   },
   "outputs": [],
   "source": [
    "# Fitting the model for training\n"
   ]
  },
  {
   "cell_type": "code",
   "execution_count": 0,
   "metadata": {
    "colab": {},
    "colab_type": "code",
    "id": "EnIF59qHPPep"
   },
   "outputs": [],
   "source": [
    "#Checking the r^2 error of the function\n"
   ]
  },
  {
   "cell_type": "code",
   "execution_count": 0,
   "metadata": {
    "colab": {},
    "colab_type": "code",
    "id": "YZRrnrjgPnBc"
   },
   "outputs": [],
   "source": [
    "#this explains the percentage of  variance our model is able to scale. "
   ]
  },
  {
   "cell_type": "code",
   "execution_count": 0,
   "metadata": {
    "colab": {},
    "colab_type": "code",
    "id": "79zXob3MPZl8"
   },
   "outputs": [],
   "source": [
    "# doing predictions using the model\n"
   ]
  },
  {
   "cell_type": "code",
   "execution_count": 0,
   "metadata": {
    "colab": {},
    "colab_type": "code",
    "id": "2bf7vvXGPeyl"
   },
   "outputs": [],
   "source": [
    "#Checking the root mean square error of the model\n"
   ]
  },
  {
   "cell_type": "code",
   "execution_count": 0,
   "metadata": {
    "colab": {},
    "colab_type": "code",
    "id": "Ty0UUI9jQEuZ"
   },
   "outputs": [],
   "source": [
    "#mean_squared_error gives the root mean square error"
   ]
  },
  {
   "cell_type": "code",
   "execution_count": 0,
   "metadata": {
    "colab": {},
    "colab_type": "code",
    "id": "5HUiOUwvQB8Y"
   },
   "outputs": [],
   "source": [
    "#Checkig how the model performend visually\n"
   ]
  },
  {
   "cell_type": "markdown",
   "metadata": {
    "colab_type": "text",
    "id": "6hv-sS9NQnBD"
   },
   "source": [
    "Improving the model using ridge regression"
   ]
  },
  {
   "cell_type": "code",
   "execution_count": 0,
   "metadata": {
    "colab": {},
    "colab_type": "code",
    "id": "gdVvfzw6QrBq"
   },
   "outputs": [],
   "source": [
    "#applying various alpha values and plotting it on a graph\n"
   ]
  },
  {
   "cell_type": "code",
   "execution_count": 0,
   "metadata": {
    "colab": {},
    "colab_type": "code",
    "id": "3KnWCc26QyYy"
   },
   "outputs": [],
   "source": [
    "#creating a dataframe for submission\n"
   ]
  },
  {
   "cell_type": "code",
   "execution_count": 0,
   "metadata": {
    "colab": {},
    "colab_type": "code",
    "id": "lNhWEC_-Rr-c"
   },
   "outputs": [],
   "source": [
    "#collectibg all the features and filling all the 0 values with the averag\n"
   ]
  },
  {
   "cell_type": "code",
   "execution_count": 0,
   "metadata": {
    "colab": {},
    "colab_type": "code",
    "id": "fnOR9FkWSCR_"
   },
   "outputs": [],
   "source": [
    "#Creating prediction on the test set\n"
   ]
  },
  {
   "cell_type": "code",
   "execution_count": 0,
   "metadata": {
    "colab": {},
    "colab_type": "code",
    "id": "1H4jMCpMSGWi"
   },
   "outputs": [],
   "source": [
    "#converting the result back to normal (back from log)\n"
   ]
  },
  {
   "cell_type": "code",
   "execution_count": 0,
   "metadata": {
    "colab": {},
    "colab_type": "code",
    "id": "JR3kf5lgSL5-"
   },
   "outputs": [],
   "source": [
    "# checking the predictions\n"
   ]
  },
  {
   "cell_type": "code",
   "execution_count": 0,
   "metadata": {
    "colab": {},
    "colab_type": "code",
    "id": "SlTJXXSGSY77"
   },
   "outputs": [],
   "source": [
    "# Entering our predictions into the submission dataframe\n"
   ]
  },
  {
   "cell_type": "code",
   "execution_count": 0,
   "metadata": {
    "colab": {},
    "colab_type": "code",
    "id": "D15VRmWnSgLn"
   },
   "outputs": [],
   "source": [
    "#Converting our result into an excel file\n"
   ]
  },
  {
   "cell_type": "code",
   "execution_count": 0,
   "metadata": {
    "colab": {},
    "colab_type": "code",
    "id": "kWzfXxgwS7bc"
   },
   "outputs": [],
   "source": []
  }
 ],
 "metadata": {
  "colab": {
   "collapsed_sections": [],
   "name": "House Prices Prediction.ipynb",
   "provenance": []
  },
  "kernelspec": {
   "display_name": "Python 3",
   "language": "python",
   "name": "python3"
  },
  "language_info": {
   "codemirror_mode": {
    "name": "ipython",
    "version": 3
   },
   "file_extension": ".py",
   "mimetype": "text/x-python",
   "name": "python",
   "nbconvert_exporter": "python",
   "pygments_lexer": "ipython3",
   "version": "3.7.4"
  }
 },
 "nbformat": 4,
 "nbformat_minor": 1
}
